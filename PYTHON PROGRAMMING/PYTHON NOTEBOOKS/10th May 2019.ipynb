{
 "cells": [
  {
   "cell_type": "markdown",
   "metadata": {},
   "source": [
    "## Problem solving and Programming \n",
    "\n",
    "### Day No  :7\n",
    "### Date - 10 May '19\n",
    "### Day objectives :\n",
    "* Objective 1: Intermediate level problems on pyhton\n",
    "* Objective 2: Using of different in-bulit functions"
   ]
  },
  {
   "cell_type": "markdown",
   "metadata": {},
   "source": [
    "### Problem 1:\n",
    "#### Problem Statement : Function to print unique numbers in a given list \n",
    "\n",
    "#### Constraints:\n",
    "\n",
    "#### Test Cases:\n",
    "* Test Case 1: unique([1, 2, 3, 4, 3, 2, 1, 0, 0]) -> [1, 2, 3, 4, 0]\n",
    "* Test Case 2: unique([9]) -> [9]\n",
    "* Test Case 3:"
   ]
  },
  {
   "cell_type": "code",
   "execution_count": 18,
   "metadata": {},
   "outputs": [
    {
     "name": "stdout",
     "output_type": "stream",
     "text": [
      "[0 1 2 3 4]\n",
      "[9]\n"
     ]
    }
   ],
   "source": [
    "import numpy \n",
    "def unique(list1):\n",
    "    x=numpy.unique(list1)\n",
    "    print(x)\n",
    "    \n",
    "    \n",
    "a=[1, 2, 3, 4, 3, 2, 1, 0, 0]\n",
    "unique(a)\n",
    "b=[9]\n",
    "unique(b)"
   ]
  },
  {
   "cell_type": "code",
   "execution_count": null,
   "metadata": {},
   "outputs": [],
   "source": []
  },
  {
   "cell_type": "markdown",
   "metadata": {},
   "source": [
    "### Problem 2:\n",
    "#### Problem Statement : Function  to determine the frequency count of numbers in a given list\n",
    "\n",
    "#### Test Cases:\n",
    "* Test Case 1: Frequency( a[1,3,2,1] ) -> 1 : 2, 2 : 1, 3 : 1"
   ]
  },
  {
   "cell_type": "code",
   "execution_count": 21,
   "metadata": {},
   "outputs": [
    {
     "name": "stdout",
     "output_type": "stream",
     "text": [
      "1 : 2 , 2 : 1 , 3 : 1 , "
     ]
    }
   ],
   "source": [
    "import numpy\n",
    "def Frequency(list1):\n",
    "    x=numpy.unique(list1)\n",
    "    n=len(x)\n",
    "    for i in range (n):\n",
    "      print(x[i],\":\" ,list1.count(x[i]) ,end=\" , \")\n",
    "        \n",
    "a=[1,3,2,1]\n",
    "Frequency(a)"
   ]
  },
  {
   "cell_type": "code",
   "execution_count": null,
   "metadata": {},
   "outputs": [],
   "source": []
  },
  {
   "cell_type": "markdown",
   "metadata": {},
   "source": [
    "### Problem 3:\n",
    "#### Problem Statement : Function to genrate n prime numbers"
   ]
  },
  {
   "cell_type": "code",
   "execution_count": 9,
   "metadata": {
    "scrolled": true
   },
   "outputs": [
    {
     "name": "stdout",
     "output_type": "stream",
     "text": [
      "2\n",
      "3\n",
      "5\n",
      "7\n"
     ]
    }
   ],
   "source": [
    "import sympy \n",
    "def prime(n):\n",
    "    for i in range(1,n+1):\n",
    "        print(sympy.prime(i))\n",
    "        \n",
    "prime(4)"
   ]
  },
  {
   "cell_type": "code",
   "execution_count": null,
   "metadata": {},
   "outputs": [],
   "source": []
  },
  {
   "cell_type": "markdown",
   "metadata": {},
   "source": [
    "### Problem 4:\n",
    "#### Problem Statement : Power of a given number by recurssion \n",
    "#### Test Case :\n",
    "* Test Case 1: power(2,3)->8"
   ]
  },
  {
   "cell_type": "code",
   "execution_count": 7,
   "metadata": {},
   "outputs": [
    {
     "data": {
      "text/plain": [
       "8"
      ]
     },
     "execution_count": 7,
     "metadata": {},
     "output_type": "execute_result"
    }
   ],
   "source": [
    "def power(n,r):\n",
    "    if (r==0):\n",
    "        return 1\n",
    "    else :\n",
    "        return power(n,r-1)*n\n",
    "    \n",
    "power(2,3)"
   ]
  },
  {
   "cell_type": "code",
   "execution_count": null,
   "metadata": {},
   "outputs": [],
   "source": []
  },
  {
   "cell_type": "markdown",
   "metadata": {},
   "source": [
    "### Problem 5:\n",
    "#### Problem Statement : Factorial of given number by recurssion \n",
    "#### Test Case :\n",
    "* Test case 1: facto(5)->120"
   ]
  },
  {
   "cell_type": "code",
   "execution_count": 8,
   "metadata": {},
   "outputs": [
    {
     "data": {
      "text/plain": [
       "120"
      ]
     },
     "execution_count": 8,
     "metadata": {},
     "output_type": "execute_result"
    }
   ],
   "source": [
    "def facto(n):\n",
    "    if(n==1):\n",
    "        return 1\n",
    "    else:\n",
    "        return n*facto(n-1)\n",
    "facto(5)"
   ]
  },
  {
   "cell_type": "code",
   "execution_count": null,
   "metadata": {},
   "outputs": [],
   "source": []
  },
  {
   "cell_type": "markdown",
   "metadata": {},
   "source": [
    "### Problem 6:\n",
    "#### Problem Statement : GCD by recurssion \n",
    "#### Test Case :\n",
    "* Test Case 1:gcdR(6,12)->6"
   ]
  },
  {
   "cell_type": "code",
   "execution_count": 34,
   "metadata": {},
   "outputs": [
    {
     "data": {
      "text/plain": [
       "3"
      ]
     },
     "execution_count": 34,
     "metadata": {},
     "output_type": "execute_result"
    }
   ],
   "source": [
    "# GCD of two numbers remains the same when\n",
    "# samller parameter is reduced to the reminder\n",
    "\n",
    "#GCD(a,b)=GCD(b%a,a)\n",
    "\n",
    "def gcdR(a,b):\n",
    "    if (b%a==0):\n",
    "        return a\n",
    "    else :\n",
    "        return gcdR(b%a,a)\n",
    "        \n",
    "gcdR(12,39)    \n"
   ]
  },
  {
   "cell_type": "code",
   "execution_count": 36,
   "metadata": {},
   "outputs": [
    {
     "data": {
      "text/plain": [
       "6"
      ]
     },
     "execution_count": 36,
     "metadata": {},
     "output_type": "execute_result"
    }
   ],
   "source": [
    "def gcdI(a,b):\n",
    "    r=b % a\n",
    "    if(r==0):\n",
    "        return a\n",
    "    while(b % a!=0):\n",
    "        r=b % a\n",
    "        b=a\n",
    "        a=r\n",
    "        \n",
    "    return a\n",
    "gcdI(6,12)"
   ]
  },
  {
   "cell_type": "code",
   "execution_count": null,
   "metadata": {},
   "outputs": [],
   "source": []
  },
  {
   "cell_type": "markdown",
   "metadata": {},
   "source": [
    "### Problem 7:\n",
    "#### Problem Statement : Towers of Hanoi\n",
    "#### Constraints : \n",
    "* 1) Larger disk cannot be palced on a smaller disk\n",
    "* 2) Only 1 disk to be moved \n",
    "#### Test Case :\n",
    "#### Explanation : \n",
    "n disks  -> move n-1 from source to temp\n",
    "            move nth to disk from source to destination \n",
    "3 disks -> move 2 disks from source to temp\n",
    "           move 3 disks from source to dest\n",
    "           move 2 disks from temp to dest\n",
    "           "
   ]
  },
  {
   "cell_type": "code",
   "execution_count": 10,
   "metadata": {},
   "outputs": [
    {
     "name": "stdout",
     "output_type": "stream",
     "text": [
      "move  1 disk from a to c\n",
      "move 2 disk from a to b\n",
      "move  1 disk from c to b\n",
      "move 3 disk from a to c\n",
      "move  1 disk from b to a\n",
      "move 2 disk from b to c\n",
      "move  1 disk from a to c\n"
     ]
    }
   ],
   "source": [
    "def towers(n,source,temp,dest):\n",
    "    if n==1:\n",
    "        print('move ',n,'disk from',source,'to' ,dest)\n",
    "        return\n",
    "    else:\n",
    "        towers(n-1,source,dest,temp)\n",
    "        print('move',n,'disk from',source,'to',dest)\n",
    "        towers(n-1,temp,source,dest)\n",
    "        return\n",
    "    \n",
    "    \n",
    "towers(3,'a','b','c')"
   ]
  },
  {
   "cell_type": "code",
   "execution_count": null,
   "metadata": {},
   "outputs": [],
   "source": []
  },
  {
   "cell_type": "markdown",
   "metadata": {},
   "source": [
    "### Problem 8:\n",
    "#### Problem Statement : Genetation of nth fibbonic number by recurssion"
   ]
  },
  {
   "cell_type": "code",
   "execution_count": 23,
   "metadata": {},
   "outputs": [
    {
     "data": {
      "text/plain": [
       "8"
      ]
     },
     "execution_count": 23,
     "metadata": {},
     "output_type": "execute_result"
    }
   ],
   "source": [
    "def fib(n):\n",
    "    if(n==1 ):\n",
    "        return 0\n",
    "    elif (n==2):\n",
    "        return 1\n",
    "    else :\n",
    "        return fib(n-1)+fib(n-2)\n",
    "    \n",
    "    \n",
    "fib(7)"
   ]
  },
  {
   "cell_type": "code",
   "execution_count": null,
   "metadata": {},
   "outputs": [],
   "source": []
  },
  {
   "cell_type": "markdown",
   "metadata": {},
   "source": [
    "### Problem 9:\n",
    "#### Problem Statement : Function to return number of occurance of a sub string in a string\n",
    "#### Test Case :\n",
    "* Test Case 1 :sub('str','substr')->1\n",
    "* Test Case 2 :sub('3','1234567891122334455')->3\n",
    "* Test Case 3 :sub('cc','aabbccddccc')->3 "
   ]
  },
  {
   "cell_type": "code",
   "execution_count": 79,
   "metadata": {},
   "outputs": [
    {
     "name": "stdout",
     "output_type": "stream",
     "text": [
      "1\n",
      "3\n",
      "3\n"
     ]
    }
   ],
   "source": [
    "def sub(str1,str2):\n",
    "    count=0\n",
    "    if(len(str1)>len(str2)):\n",
    "        sub=str2\n",
    "        stri=str1   \n",
    "    else:\n",
    "        sub=str1\n",
    "        stri=str2\n",
    "        for i in range(len(stri)):\n",
    "            if(sub in stri[i:i+len(sub)]):\n",
    "                count=count+1\n",
    "        return count        \n",
    "        \n",
    "print(sub('str','substr'))\n",
    "print(sub('3','1234567891122334455'))\n",
    "print(sub('cc','aabbccddccc'))"
   ]
  },
  {
   "cell_type": "code",
   "execution_count": null,
   "metadata": {},
   "outputs": [],
   "source": []
  },
  {
   "cell_type": "markdown",
   "metadata": {},
   "source": [
    "### Problem 10:\n",
    "#### Problem Statement : Function to megre 2 string allternatively\n",
    "#### Test Case :\n",
    "* Test Case 1: ms('abcd','abcd')->'aabbccdd'\n",
    "* Test Case 2: ms('abc','123456')->'a1b2c3456'"
   ]
  },
  {
   "cell_type": "code",
   "execution_count": 99,
   "metadata": {
    "scrolled": true
   },
   "outputs": [
    {
     "name": "stdout",
     "output_type": "stream",
     "text": [
      " aabbccdd\n",
      " a1b2c356\n"
     ]
    }
   ],
   "source": [
    "def ms(x,y):\n",
    "    m=len(x)\n",
    "    n=len(y)\n",
    "    z=\" \"\n",
    "    if(m>n):\n",
    "        for i in range (n):\n",
    "            z=z+x[i]\n",
    "            z=z+y[i]\n",
    "        for i in range(n+1,m):\n",
    "            z=z+x[i]\n",
    "    elif(m<n):\n",
    "        for i in range (m):\n",
    "            z=z+x[i]\n",
    "            z=z+y[i]\n",
    "        for i in range(m+1,n):\n",
    "            z=z+y[i]\n",
    "    else:\n",
    "        for i in range(m):\n",
    "            z=z+x[i]\n",
    "            z=z+y[i]\n",
    "    return z\n",
    "            \n",
    "print(ms('abcd','abcd'))\n",
    "print(ms('abc','123456'))"
   ]
  },
  {
   "cell_type": "markdown",
   "metadata": {},
   "source": [
    "### Problem 11:\n",
    "#### Problem Statement :Define a function to convert a decimal number to the corresponding binary number\n",
    "#### Test Case :\n",
    "* Test Case 1:dtob(15)->1111\n",
    "* Test Case 2:dtob(1)->1 "
   ]
  },
  {
   "cell_type": "code",
   "execution_count": 18,
   "metadata": {},
   "outputs": [
    {
     "name": "stdout",
     "output_type": "stream",
     "text": [
      "[0, 0, 0, 0, 1, 1, 1, 1]\n",
      "[0, 0, 0, 0, 0, 0, 0, 1]\n",
      "[0, 0, 0, 0, 0, 1, 0, 0]\n",
      "[1, 1, 1, 0, 1, 0, 1, 1]\n"
     ]
    }
   ],
   "source": [
    "import math\n",
    "def dtob(n):\n",
    "    i=0\n",
    "    a=[0,0,0,0,0,0,0,0]\n",
    "    while((n)>0):\n",
    "        a[7-i]=n%2\n",
    "        n=n//2\n",
    "        i=i+1\n",
    "    return a\n",
    "\n",
    "print(dtob(15))\n",
    "print(dtob(1))\n",
    "print(dtob(4))\n",
    "print(dtob(1000))"
   ]
  },
  {
   "cell_type": "code",
   "execution_count": null,
   "metadata": {},
   "outputs": [],
   "source": []
  },
  {
   "cell_type": "markdown",
   "metadata": {},
   "source": [
    "### Problem 12:\n",
    "#### Problem Statement :Define a function to check if a given year is a leap year. Returns a boolean value\n",
    "#### Test Case :\n",
    "* Test Case 1:2000 -> True\n",
    "* Test Case 2:1900 ->False\n",
    "* Test Case 3:2012 ->True\n",
    "* Test Case 4:2020 ->True\n",
    "* Test Case 5:200 -> False"
   ]
  },
  {
   "cell_type": "code",
   "execution_count": 131,
   "metadata": {},
   "outputs": [
    {
     "name": "stdout",
     "output_type": "stream",
     "text": [
      "True\n",
      "False\n",
      "True\n",
      "True\n",
      "False\n"
     ]
    }
   ],
   "source": [
    "def check(n):\n",
    "    if(n%4==0 and n%100!=0 or n%400 ==0):\n",
    "        return True\n",
    "    else :\n",
    "        return False\n",
    "    \n",
    "print(check(2000))\n",
    "print(check(1900))\n",
    "print(check(2012))\n",
    "print(check(2020))\n",
    "print(check(200))"
   ]
  },
  {
   "cell_type": "code",
   "execution_count": null,
   "metadata": {},
   "outputs": [],
   "source": []
  },
  {
   "cell_type": "markdown",
   "metadata": {},
   "source": [
    "### Problem 13:\n",
    "#### Problem Statement :Define a function to convert a binary number to the corresponding decimal number\n",
    "#### Test Case :\n",
    "* Test Case 1:btod(1100)->12\n",
    "* Test Case 2:btod(1010)->10\n",
    "* Test Case 3:btod(111000)->56"
   ]
  },
  {
   "cell_type": "code",
   "execution_count": 9,
   "metadata": {},
   "outputs": [
    {
     "name": "stdout",
     "output_type": "stream",
     "text": [
      "12\n",
      "10\n",
      "56\n"
     ]
    }
   ],
   "source": [
    "import math\n",
    "def btod(n):\n",
    "    count=0\n",
    "    a=0\n",
    "    while(math.floor(n)>0):\n",
    "        r=n%10\n",
    "        a=a+((2**count)*r)\n",
    "        n=n//10\n",
    "        count=count+1\n",
    "    return a\n",
    "print(btod(1100))\n",
    "print(btod(1010))\n",
    "print(btod(111000))"
   ]
  },
  {
   "cell_type": "code",
   "execution_count": null,
   "metadata": {},
   "outputs": [],
   "source": []
  },
  {
   "cell_type": "code",
   "execution_count": null,
   "metadata": {},
   "outputs": [],
   "source": [
    "### Problem 14:\n",
    "#### Problem Statement : Function to find the average ofouter matrix elemnts\n",
    "#### Test Case :\n",
    "* Test Case 1:ave([[1, 2, 3], [4, 5, 6], [7, 8, 9], [10, 11, 12]]) -> 4.5"
   ]
  },
  {
   "cell_type": "code",
   "execution_count": 11,
   "metadata": {},
   "outputs": [
    {
     "data": {
      "text/plain": [
       "6.5"
      ]
     },
     "execution_count": 11,
     "metadata": {},
     "output_type": "execute_result"
    }
   ],
   "source": [
    "import math\n",
    "def ave(li):\n",
    "    m=len(li)\n",
    "    n=len(li[1])\n",
    "    sum=0\n",
    "    for i in range(m):\n",
    "        sum=sum+li[i][0]+li[i][n-1]\n",
    "    for j in range(1,n-1):\n",
    "        sum=sum+li[0][j]+li[m-1][j]\n",
    "    return sum/math.floor((2*(m+n))-4)\n",
    "a=[[1, 2, 3], [4, 5, 6], [7, 8, 9], [10, 11, 12]]\n",
    "ave(a)"
   ]
  },
  {
   "cell_type": "code",
   "execution_count": 13,
   "metadata": {
    "scrolled": true
   },
   "outputs": [
    {
     "name": "stdout",
     "output_type": "stream",
     "text": [
      "4\n",
      "3\n"
     ]
    }
   ],
   "source": [
    "a=[[1, 2, 3], [4, 5, 6], [7, 8, 9], [10, 11, 12]]\n",
    "print(len(a))\n",
    "print(len(a[1]))"
   ]
  },
  {
   "cell_type": "code",
   "execution_count": 4,
   "metadata": {},
   "outputs": [
    {
     "name": "stdout",
     "output_type": "stream",
     "text": [
      "0\n",
      "1\n",
      "2\n",
      "3\n",
      "4\n",
      "5\n",
      "6\n",
      "7\n",
      "8\n",
      "9\n",
      "10\n"
     ]
    }
   ],
   "source": [
    "m=11\n",
    "for j in range(m):\n",
    "    print (j)"
   ]
  }
 ],
 "metadata": {
  "kernelspec": {
   "display_name": "Python 3",
   "language": "python",
   "name": "python3"
  },
  "language_info": {
   "codemirror_mode": {
    "name": "ipython",
    "version": 3
   },
   "file_extension": ".py",
   "mimetype": "text/x-python",
   "name": "python",
   "nbconvert_exporter": "python",
   "pygments_lexer": "ipython3",
   "version": "3.7.3"
  }
 },
 "nbformat": 4,
 "nbformat_minor": 2
}
