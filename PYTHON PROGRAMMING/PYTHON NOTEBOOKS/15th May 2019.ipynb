{
 "cells": [
  {
   "cell_type": "markdown",
   "metadata": {},
   "source": [
    "## Problem solving and Programming \n",
    "\n",
    "### Day No  :12\n",
    "### Date - 15 May '19\n",
    "### Day objectives :\n",
    "* Objective 1:\n",
    "* Objective 2:"
   ]
  },
  {
   "cell_type": "markdown",
   "metadata": {},
   "source": [
    "### PACKAGES"
   ]
  },
  {
   "cell_type": "code",
   "execution_count": 7,
   "metadata": {},
   "outputs": [
    {
     "name": "stdout",
     "output_type": "stream",
     "text": [
      "120\n",
      "15\n"
     ]
    }
   ],
   "source": [
    "import python_scripts.test\n",
    "print(python_scripts.test.facto(5))\n",
    "print(python_scripts.test.sumN(5))"
   ]
  },
  {
   "cell_type": "code",
   "execution_count": 8,
   "metadata": {},
   "outputs": [
    {
     "data": {
      "text/plain": [
       "5040"
      ]
     },
     "execution_count": 8,
     "metadata": {},
     "output_type": "execute_result"
    }
   ],
   "source": [
    "from  python_scripts.test import facto as nn\n",
    "nn(7)"
   ]
  },
  {
   "cell_type": "code",
   "execution_count": 9,
   "metadata": {},
   "outputs": [
    {
     "data": {
      "text/plain": [
       "40320"
      ]
     },
     "execution_count": 9,
     "metadata": {},
     "output_type": "execute_result"
    }
   ],
   "source": [
    "import python_scripts.test as n\n",
    "n.facto(8)"
   ]
  },
  {
   "cell_type": "code",
   "execution_count": 13,
   "metadata": {},
   "outputs": [
    {
     "name": "stdout",
     "output_type": "stream",
     "text": [
      "linus\n",
      "snl\n"
     ]
    }
   ],
   "source": [
    "from  python_scripts.Strings.stringFunction import reverse\n",
    "print(reverse(\"sunil\"))\n",
    "from  python_scripts.Strings.stringFunction import alternatecharacters as ac\n",
    "print(ac(\"sunil\"))"
   ]
  },
  {
   "cell_type": "code",
   "execution_count": 11,
   "metadata": {},
   "outputs": [
    {
     "data": {
      "text/plain": [
       "12"
      ]
     },
     "execution_count": 11,
     "metadata": {},
     "output_type": "execute_result"
    }
   ],
   "source": [
    "from math import floor\n",
    "#math.floor(-234.1547)\n",
    "floor(12.3456)"
   ]
  },
  {
   "cell_type": "markdown",
   "metadata": {},
   "source": [
    "### REGULAR EXPRESSION "
   ]
  },
  {
   "cell_type": "code",
   "execution_count": 15,
   "metadata": {},
   "outputs": [
    {
     "name": "stdout",
     "output_type": "stream",
     "text": [
      "not match\n"
     ]
    }
   ],
   "source": [
    "import re   # inbulit regular expression package\n",
    "p='^a...s$'\n",
    "t='abyss'\n",
    "result=re.match(p,t)\n",
    "if result:\n",
    "    print(\"match\")\n",
    "else :\n",
    "    print(\"not match\")"
   ]
  },
  {
   "cell_type": "code",
   "execution_count": 19,
   "metadata": {},
   "outputs": [
    {
     "name": "stdout",
     "output_type": "stream",
     "text": [
      "match\n"
     ]
    }
   ],
   "source": [
    "import re\n",
    "\n",
    "pattern='^g....'\n",
    "domain='gmail'\n",
    "if(re.match(pattern,domain)):\n",
    "    print(\"match\")\n",
    "else:\n",
    "    print(\"not match\")\n"
   ]
  },
  {
   "cell_type": "code",
   "execution_count": 35,
   "metadata": {},
   "outputs": [
    {
     "name": "stdout",
     "output_type": "stream",
     "text": [
      "not match\n"
     ]
    }
   ],
   "source": [
    "import re\n",
    "p='^[a-z]{3,9}$'\n",
    "d='gmail123344'\n",
    "if(re.match(p,d)):\n",
    "    print(\"match\")\n",
    "else:\n",
    "    print(\"not match\")\n"
   ]
  },
  {
   "cell_type": "code",
   "execution_count": 71,
   "metadata": {},
   "outputs": [
    {
     "name": "stdout",
     "output_type": "stream",
     "text": [
      "match\n"
     ]
    }
   ],
   "source": [
    "import re\n",
    "p='^[+]91[7-9][0-9]{9}$'\n",
    "d='+919876543110'\n",
    "if(re.match(p,d)):\n",
    "    print(\"match\")\n",
    "else:\n",
    "    print(\"not match\")\n"
   ]
  },
  {
   "cell_type": "code",
   "execution_count": 127,
   "metadata": {
    "scrolled": true
   },
   "outputs": [
    {
     "name": "stdout",
     "output_type": "stream",
     "text": [
      "match\n"
     ]
    }
   ],
   "source": [
    "import re\n",
    "unp='^[a-z][0-9a-z-_]{6,15}$'\n",
    "d='a2345_67'\n",
    "if(re.match(unp,d)):\n",
    "   # if(len(d) in range(6,17)):\n",
    "        print(\"match\")\n",
    "else:\n",
    "    print(\"not match\")\n"
   ]
  },
  {
   "cell_type": "markdown",
   "metadata": {},
   "source": [
    "### E-mail validation "
   ]
  },
  {
   "cell_type": "code",
   "execution_count": 136,
   "metadata": {},
   "outputs": [
    {
     "name": "stdout",
     "output_type": "stream",
     "text": [
      "match\n",
      "not match\n"
     ]
    }
   ],
   "source": [
    "import re\n",
    "def check(d):\n",
    "    p='^[a-z][0-9a-z-_.]{4,13}[0-9a-z][@][0-9a-z]{3,9}[.][a-z]{2,3}'\n",
    "    if(re.match(p,d)):\n",
    "            print(\"match\")\n",
    "    else:\n",
    "        print(\"not match\")\n",
    "check('sunilsriharhsa9@gmail.com')\n",
    "check(\"12hbfuj@mfg.in\")\n"
   ]
  },
  {
   "cell_type": "markdown",
   "metadata": {},
   "source": [
    "###  Password validation \n",
    "* should contain atleast one upper case\n",
    "* lenght in (6,21)\n",
    "* atleast one special symbol\n",
    "* should start with upper or lower case \n",
    "* should contain atleast one digit "
   ]
  },
  {
   "cell_type": "code",
   "execution_count": 149,
   "metadata": {},
   "outputs": [
    {
     "name": "stdout",
     "output_type": "stream",
     "text": [
      "match\n"
     ]
    }
   ],
   "source": [
    "import re\n",
    "p='^[+(A-Z)a-z0-9-_.@]{6,21}'\n",
    "d='ass-123gf'\n",
    "if(re.match(p,d)):\n",
    "    print(\"match\")\n",
    "else:\n",
    "    print(\"not match\")"
   ]
  },
  {
   "cell_type": "markdown",
   "metadata": {},
   "source": [
    "#### ITERATERS IN PYTHON\n",
    "* Lists,Tuples,String"
   ]
  },
  {
   "cell_type": "code",
   "execution_count": 166,
   "metadata": {},
   "outputs": [
    {
     "name": "stdout",
     "output_type": "stream",
     "text": [
      "1\n",
      "2\n",
      "3\n",
      "4\n",
      "5\n",
      "6\n",
      "4\n",
      "5\n",
      "6\n"
     ]
    }
   ],
   "source": [
    "li=[1,2,3,4,5,6]\n",
    "it=iter(li)\n",
    "for i in (li):\n",
    "    print(i)\n",
    "#it=iter(li)\n",
    "type(it)\n",
    "next(it)\n",
    "next(it)\n",
    "next(it)\n",
    "for i in (it):\n",
    "    print(i)"
   ]
  },
  {
   "cell_type": "markdown",
   "metadata": {},
   "source": [
    "#### generator in pyhton"
   ]
  },
  {
   "cell_type": "code",
   "execution_count": 176,
   "metadata": {
    "scrolled": false
   },
   "outputs": [
    {
     "name": "stdout",
     "output_type": "stream",
     "text": [
      "1 8 27 64 125 216 343 512 729 1000 "
     ]
    }
   ],
   "source": [
    "li=[i for i in range(1,10)]\n",
    "li\n",
    "sum(li)\n",
    "gn=(i**3 for i in range(1,11))\n",
    "for i in gn:\n",
    "    print(i,end=\" \")"
   ]
  },
  {
   "cell_type": "code",
   "execution_count": null,
   "metadata": {},
   "outputs": [],
   "source": []
  },
  {
   "cell_type": "code",
   "execution_count": null,
   "metadata": {},
   "outputs": [],
   "source": []
  }
 ],
 "metadata": {
  "kernelspec": {
   "display_name": "Python 3",
   "language": "python",
   "name": "python3"
  },
  "language_info": {
   "codemirror_mode": {
    "name": "ipython",
    "version": 3
   },
   "file_extension": ".py",
   "mimetype": "text/x-python",
   "name": "python",
   "nbconvert_exporter": "python",
   "pygments_lexer": "ipython3",
   "version": "3.7.3"
  }
 },
 "nbformat": 4,
 "nbformat_minor": 2
}
