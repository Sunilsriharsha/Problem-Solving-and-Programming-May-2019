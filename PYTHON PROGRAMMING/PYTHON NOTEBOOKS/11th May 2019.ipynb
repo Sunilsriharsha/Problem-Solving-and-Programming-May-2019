{
 "cells": [
  {
   "cell_type": "markdown",
   "metadata": {},
   "source": [
    "## Problem solving and Programming \n",
    "\n",
    "### Day No  :8\n",
    "### Date - 11 May '19\n",
    "### Day objectives :\n",
    "* Objective 1: Level 2 problems in pyhton\n",
    "* Objective 2: "
   ]
  },
  {
   "cell_type": "markdown",
   "metadata": {},
   "source": [
    "### Problem 1:\n",
    "#### Problem Statement :Define a function to print the sequence of spiral pattern elements for a given N x N matrix\n",
    "#### Test Case:\n",
    "* Test Case 1:spiralPrint([[1,2,3], [4,5,6], [7,8,9]]) -> 1 2 3 6 9 8 7 4 5"
   ]
  },
  {
   "cell_type": "code",
   "execution_count": 11,
   "metadata": {},
   "outputs": [
    {
     "name": "stdout",
     "output_type": "stream",
     "text": [
      "1 2 3 4 5 6 7 8 9 10 11 12 13 14 15 16 17 18 19 20 21 22 23 24 25 26 27 28 29 30 31 32 33 34 35 36 "
     ]
    }
   ],
   "source": [
    "def spiralPrint(a):\n",
    "    k=0\n",
    "    l=0\n",
    "    m=len(a)\n",
    "    n=len(a[1])\n",
    "    while(k<m and l<n):\n",
    "        for i in range (0+k,n):\n",
    "            print(a[k][i],end=\" \")\n",
    "            \n",
    "        k=k+1\n",
    "        for i in range(k,m):\n",
    "            print(a[i][n-1],end=\" \")\n",
    "            \n",
    "        n=n-1\n",
    "        if (k<m):\n",
    "            for i in range(n-1,(l-1),-1):\n",
    "                print(a[m-1][i],end =\" \")\n",
    "            m=m-1\n",
    "        if(l<n):\n",
    "            for i in range(m-1,k-1,-1):\n",
    "                print(a[i][l],end= \" \")\n",
    "            l=l+1\n",
    "\n",
    "a=[[1,2,3],[4,5,6],[7,8,9]]  \n",
    "#spiralPrint(a)\n",
    "b=[[1,2,3],[8,9,4],[7,6,5]]\n",
    "#spiralPrint(b)\n",
    "c=[[1,2,3,4],[12,13,14,5],[11,16,15,6],[10,9,8,7]]\n",
    "#spiralPrint(c)\n",
    "d=[[1,2,3,4,5],[16,17,18,19,6],[15,24,25,20,7],[14,23,22,21,8],[13,12,11,10,9]]\n",
    "#spiralPrint(d)\n",
    "e=[[1,2,3,4,5,6],[20,21,22,23,24,7],[19,32,33,34,25,8],[18,31,36,35,26,9],[17,30,29,28,27,10],[16,15,14,13,12,11]]\n",
    "spiralPrint(e)"
   ]
  },
  {
   "cell_type": "code",
   "execution_count": null,
   "metadata": {},
   "outputs": [],
   "source": []
  },
  {
   "cell_type": "markdown",
   "metadata": {},
   "source": [
    "### Problem 2:\n",
    "#### Problem Statement : Date difference Calculator\n",
    "#### Test Case :\n",
    "* Test Case 1:d_Diff('2019:05:10', '2019:05:01') -> 9\n",
    "* Test Case 2:d_Diff('0003:03:03', '0003:06:06') -> 95\n",
    "#### Constraints: 'YYYY:MM:DD' format only,with '0' when ever needed"
   ]
  },
  {
   "cell_type": "code",
   "execution_count": 2,
   "metadata": {},
   "outputs": [
    {
     "name": "stdout",
     "output_type": "stream",
     "text": [
      "9\n",
      "95\n"
     ]
    }
   ],
   "source": [
    "def d_Diff(s1,s2):\n",
    "    y1=s1[0:4]\n",
    "    y2=s2[0:4]\n",
    "    m1=s1[5:7]\n",
    "    m2=s2[5:7]\n",
    "    d1=s1[8:10]\n",
    "    d2=s2[8:10]\n",
    "    day=0\n",
    "    day+=(int(y2)-int(y1))*365\n",
    "    day+=(abs(int(m2)-int(m1)))*30\n",
    "    day+=(abs(int(d1)-int(d2)))\n",
    "    if(m2!=m1 ):\n",
    "        for i in range (int(m1),int(m2)+1):\n",
    "            if(int(i) in [1,3,5,7,8,10,12]):\n",
    "                day+=1\n",
    "    for n in range (int(y1),int(y2)+1):\n",
    "        if(n%4==0 and n%100!=0 or n%400 ==0):\n",
    "                day+=1\n",
    "    return day\n",
    "\n",
    "print(d_Diff('2019:05:10','2019:05:01'))   \n",
    "print(d_Diff('0003:03:03','0003:06:06'))"
   ]
  },
  {
   "cell_type": "code",
   "execution_count": null,
   "metadata": {},
   "outputs": [],
   "source": []
  },
  {
   "cell_type": "markdown",
   "metadata": {},
   "source": [
    "### Problem 3:\n",
    "#### Problem Statement : To calculate S.I"
   ]
  },
  {
   "cell_type": "code",
   "execution_count": null,
   "metadata": {},
   "outputs": [
    {
     "data": {
      "text/plain": [
       "1.0"
      ]
     },
     "execution_count": 4,
     "metadata": {},
     "output_type": "execute_result"
    }
   ],
   "source": [
    "def si(p,t,r):\n",
    "    return (p*t*r)/100\n",
    "\n",
    "si(100,10,0.1)"
   ]
  },
  {
   "cell_type": "code",
   "execution_count": null,
   "metadata": {},
   "outputs": [],
   "source": []
  },
  {
   "cell_type": "markdown",
   "metadata": {},
   "source": [
    "### Problem 4:\n",
    "#### Problem Statement : To check armstrong or not "
   ]
  },
  {
   "cell_type": "code",
   "execution_count": 17,
   "metadata": {},
   "outputs": [
    {
     "name": "stdout",
     "output_type": "stream",
     "text": [
      "153\n"
     ]
    },
    {
     "data": {
      "text/plain": [
       "True"
      ]
     },
     "execution_count": 17,
     "metadata": {},
     "output_type": "execute_result"
    }
   ],
   "source": [
    "import math\n",
    "def arm(n):\n",
    "    temp=n\n",
    "    arm=0\n",
    "    while(temp>0):\n",
    "        a=temp%10\n",
    "        arm=arm+(a**3)\n",
    "        temp=temp//10\n",
    "    if(arm==n):\n",
    "        return True\n",
    "    else:\n",
    "        return False\n",
    "    \n",
    "arm(153)"
   ]
  },
  {
   "cell_type": "code",
   "execution_count": null,
   "metadata": {},
   "outputs": [],
   "source": []
  },
  {
   "cell_type": "markdown",
   "metadata": {},
   "source": [
    "### Problem 5:\n",
    "#### Problem Statement : Sum of n Square"
   ]
  },
  {
   "cell_type": "code",
   "execution_count": 2,
   "metadata": {},
   "outputs": [
    {
     "data": {
      "text/plain": [
       "5"
      ]
     },
     "execution_count": 2,
     "metadata": {},
     "output_type": "execute_result"
    }
   ],
   "source": [
    "def ss(n):\n",
    "    sum=0\n",
    "    for i in range(1,n+1):\n",
    "        \n",
    "        sum=sum+(i**2)        \n",
    "    return sum\n",
    "ss(2)"
   ]
  },
  {
   "cell_type": "code",
   "execution_count": null,
   "metadata": {},
   "outputs": [],
   "source": []
  },
  {
   "cell_type": "markdown",
   "metadata": {},
   "source": [
    "### Problem 6:\n",
    "#### Problem Statement : Sum of n cubes"
   ]
  },
  {
   "cell_type": "code",
   "execution_count": 3,
   "metadata": {},
   "outputs": [
    {
     "data": {
      "text/plain": [
       "9"
      ]
     },
     "execution_count": 3,
     "metadata": {},
     "output_type": "execute_result"
    }
   ],
   "source": [
    "def sc(n):\n",
    "    sum=0\n",
    "    for i in range(1,n+1):\n",
    "        \n",
    "        sum=sum+(i**3)        \n",
    "    return sum\n",
    "sc(2)"
   ]
  },
  {
   "cell_type": "code",
   "execution_count": null,
   "metadata": {},
   "outputs": [],
   "source": []
  }
 ],
 "metadata": {
  "kernelspec": {
   "display_name": "Python 3",
   "language": "python",
   "name": "python3"
  },
  "language_info": {
   "codemirror_mode": {
    "name": "ipython",
    "version": 3
   },
   "file_extension": ".py",
   "mimetype": "text/x-python",
   "name": "python",
   "nbconvert_exporter": "python",
   "pygments_lexer": "ipython3",
   "version": "3.7.3"
  }
 },
 "nbformat": 4,
 "nbformat_minor": 2
}
