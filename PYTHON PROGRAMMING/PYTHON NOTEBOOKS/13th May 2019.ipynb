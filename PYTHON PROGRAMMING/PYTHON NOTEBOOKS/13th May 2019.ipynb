{
 "cells": [
  {
   "cell_type": "markdown",
   "metadata": {},
   "source": [
    "## Problem solving and Programming \n",
    "\n",
    "### Day No  :10\n",
    "### Date - 13 May '19\n",
    "### Day objectives :\n",
    "* Objective 1:\n",
    "* Objective 2:"
   ]
  },
  {
   "cell_type": "markdown",
   "metadata": {},
   "source": [
    "### Problem 1: \n",
    "#### Problem Statement :  Define a function that take an array of integers A, and an integer K and returns the longest possible sub-set of A i.e A' such that the sum of no two elements in A' is divisible by K.\n",
    "\n",
    "#### Explantaion :First line in input contains the length of A and the integer K. Second line of input contains len(A) space-separated integers.\n",
    "#### Test Case:\n",
    "*Sample Input :    4  3\n",
    "\n",
    "                    *1 7 2 4\n",
    "\n",
    "Sample Output : 3\n",
    "\n"
   ]
  },
  {
   "cell_type": "code",
   "execution_count": 24,
   "metadata": {},
   "outputs": [
    {
     "name": "stdout",
     "output_type": "stream",
     "text": [
      "4 3\n",
      "[1, 7, 2, 4]\n",
      "3\n"
     ]
    }
   ],
   "source": [
    "def arr(a,k):\n",
    "    sub=[ ]\n",
    "    sub.append(a[0])\n",
    "    print(len(a),k)\n",
    "    print(a)\n",
    "    for i in range(1,len(a)):\n",
    "        if(checksub(a[i],sub,k)):\n",
    "            sub.append(a[i])\n",
    "    print(len(sub))\n",
    "    # print(sub)\n",
    "def checksub(key,sub,k):\n",
    "    for i in range(len(sub)):\n",
    "        if(((key+sub[i])%k)==0):\n",
    "            return False\n",
    "    return True \n",
    "        \n",
    "a=[1,7,2,4]\n",
    "arr(a,3)"
   ]
  },
  {
   "cell_type": "code",
   "execution_count": null,
   "metadata": {},
   "outputs": [],
   "source": []
  },
  {
   "cell_type": "markdown",
   "metadata": {},
   "source": [
    "### Problem 2: \n",
    "#### Problem Statement :Define a function to validate email addresses based on the following rules.\n",
    "#### Constraints: \n",
    "* Email should be in the format username@domain.extension\n",
    "* username must start with an alphabet and can contain lowercase alphabet, digits, hyphen(-) and underscores( _ ).\n",
    "* username must not contain special characters, uppercase letters, whitespaces.\n",
    "* Length of username must be in the range (6, 16)\n",
    "* Domain can only contain lowercase alphabet and digits with length in range (3, 10) . No special characters are allowed\n",
    "* Extension can only contain lower case alphabet and its length must be in the range (2, 4)"
   ]
  },
  {
   "cell_type": "code",
   "execution_count": 3,
   "metadata": {
    "scrolled": false
   },
   "outputs": [
    {
     "name": "stdout",
     "output_type": "stream",
     "text": [
      "Valid\n",
      "Invalid\n",
      "Invalid\n",
      "Invalid\n",
      "Valid\n",
      "Invalid\n"
     ]
    }
   ],
   "source": [
    "def check(n):\n",
    "    pos1=n.index(\"@\")      #index of '@'\n",
    "    pos2=n.index(\".\")      # index of \".\"\n",
    "    user_name=n[:pos1]        # gets the user name\n",
    "    domain=n[(pos1+1):pos2]      # gets the domain\n",
    "    ext=n[(pos2+1):]             # gets the exension\n",
    "    result=1\n",
    "    s=[chr(x) for x in range(32,45)]\n",
    "    s2=[chr(y) for y in range(58,64)]\n",
    "    s3=[chr(z) for z in range(91,95)]\n",
    "    s4=[chr(x) for x in range(46,48)]\n",
    "    s5=[chr(x) for x in range(123,127)]\n",
    "    if(user_name[0].islower() and len(user_name) in range(6,16) and user_name.islower()):\n",
    "        result =result\n",
    "    else:\n",
    "        return 'Invalid'\n",
    "    for i in range(len(user_name)):\n",
    "        if(user_name[i] in s or user_name[i] in s2 or user_name[i] in s3 or user_name[i] in s4 or user_name[i] in s5):\n",
    "            return 'Invalid'\n",
    "    if(len(domain) in range(3,10) and domain.islower()):\n",
    "        result=result\n",
    "    else:\n",
    "        return 'Invalid'\n",
    "    for i in range(len(domain)):\n",
    "        if(domain[i] in [\"-\",\"_\"] or domain[i] in s or domain[i] in s2 or domain[i] in s3 or domain[i] in s4 or domain[i] in s5 ):\n",
    "            return 'Invalid'\n",
    "    if(ext.islower() and len(ext) in range(2,4) ):\n",
    "        result=result\n",
    "    else:\n",
    "        return 'Invalid'\n",
    "    for i in range(len(ext)):\n",
    "        if(ext[i] in ['0','1','2','3','4','5','6','7','8','9']):\n",
    "            return 'Invalid'\n",
    "    if(result==1):\n",
    "        return 'Valid'\n",
    "\n",
    "print(check(\"abc456@gmail.com\"))\n",
    "print(check(\"456abc@yahoo.com\"))\n",
    "print(check(\"abc_456@gitam.ed1\"))\n",
    "print(check(\"abc-456@abc-d.in\"))\n",
    "print(check(\"python@python.edu\"))\n",
    "print(check(\"abc 456@gitam.ed1\"))"
   ]
  },
  {
   "cell_type": "code",
   "execution_count": null,
   "metadata": {},
   "outputs": [],
   "source": []
  },
  {
   "cell_type": "markdown",
   "metadata": {},
   "source": [
    "### Problem 3:\n",
    "#### Problem Statement : To check if a string is palindrome or not"
   ]
  },
  {
   "cell_type": "code",
   "execution_count": 2,
   "metadata": {},
   "outputs": [
    {
     "data": {
      "text/plain": [
       "True"
      ]
     },
     "execution_count": 2,
     "metadata": {},
     "output_type": "execute_result"
    }
   ],
   "source": [
    "def pali(n):\n",
    "    if(n==n[len(n)-1::-1]):\n",
    "        return True \n",
    "    else:\n",
    "        return False\n",
    "pali(\"racecar\")"
   ]
  },
  {
   "cell_type": "code",
   "execution_count": null,
   "metadata": {},
   "outputs": [],
   "source": []
  },
  {
   "cell_type": "markdown",
   "metadata": {},
   "source": [
    "### Problem 4:\n",
    "#### Problem Statement : To remove i’th character from string"
   ]
  },
  {
   "cell_type": "code",
   "execution_count": 8,
   "metadata": {},
   "outputs": [
    {
     "data": {
      "text/plain": [
       "'sunil'"
      ]
     },
     "execution_count": 8,
     "metadata": {},
     "output_type": "execute_result"
    }
   ],
   "source": [
    "def remove(n,i):\n",
    "    m=n[:i-1]\n",
    "    m=m+(n[i:])\n",
    "    return m\n",
    "remove(\"suniil\",4)"
   ]
  },
  {
   "cell_type": "code",
   "execution_count": null,
   "metadata": {},
   "outputs": [],
   "source": []
  },
  {
   "cell_type": "markdown",
   "metadata": {},
   "source": [
    "### Problem 5:\n",
    "#### Problem Statement : Check if a Substring is Present in a Given String"
   ]
  },
  {
   "cell_type": "code",
   "execution_count": 9,
   "metadata": {},
   "outputs": [
    {
     "data": {
      "text/plain": [
       "True"
      ]
     },
     "execution_count": 9,
     "metadata": {},
     "output_type": "execute_result"
    }
   ],
   "source": [
    "def check(stri,sub):\n",
    "    if(sub in stri):\n",
    "        return True\n",
    "    else:\n",
    "        return False\n",
    "check('abcd','ab')"
   ]
  },
  {
   "cell_type": "code",
   "execution_count": null,
   "metadata": {},
   "outputs": [],
   "source": []
  }
 ],
 "metadata": {
  "kernelspec": {
   "display_name": "Python 3",
   "language": "python",
   "name": "python3"
  },
  "language_info": {
   "codemirror_mode": {
    "name": "ipython",
    "version": 3
   },
   "file_extension": ".py",
   "mimetype": "text/x-python",
   "name": "python",
   "nbconvert_exporter": "python",
   "pygments_lexer": "ipython3",
   "version": "3.7.3"
  }
 },
 "nbformat": 4,
 "nbformat_minor": 2
}
