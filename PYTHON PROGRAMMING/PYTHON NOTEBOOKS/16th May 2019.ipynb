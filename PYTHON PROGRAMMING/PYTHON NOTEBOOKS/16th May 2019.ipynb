{
 "cells": [
  {
   "cell_type": "markdown",
   "metadata": {},
   "source": [
    "## Problem solving and Programming \n",
    "\n",
    "### Day No  :13\n",
    "### Date - 16 May '19\n",
    "### Day objectives :\n",
    "* Objective 1:\n",
    "* Objective 2:"
   ]
  },
  {
   "cell_type": "markdown",
   "metadata": {},
   "source": [
    "###  Password validation \n",
    "* should contain atleast one upper case\n",
    "* lenght in (6,21)\n",
    "* atleast one special symbol\n",
    "* should start with upper or lower case \n",
    "* should contain atleast one digit "
   ]
  },
  {
   "cell_type": "code",
   "execution_count": 1,
   "metadata": {},
   "outputs": [
    {
     "name": "stdout",
     "output_type": "stream",
     "text": [
      "match\n"
     ]
    }
   ],
   "source": [
    "import re\n",
    "p='^([(?=.*A-Z)(?=.*a-z)(?=.*0-9)(?=.*-+_.@)]{6,21}$)'\n",
    "d='pass_123'\n",
    "if(re.match(p,d)):\n",
    "    print(\"match\")\n",
    "else:\n",
    "    print(\"not match\")"
   ]
  },
  {
   "cell_type": "code",
   "execution_count": null,
   "metadata": {},
   "outputs": [],
   "source": []
  },
  {
   "cell_type": "markdown",
   "metadata": {},
   "source": [
    "### Problem 1: \n",
    "#### Problem Statement :Program for Finding the vertex, focus and directrix of a parabola"
   ]
  },
  {
   "cell_type": "code",
   "execution_count": 2,
   "metadata": {},
   "outputs": [
    {
     "name": "stdout",
     "output_type": "stream",
     "text": [
      "Vertex: ( -0.3 ,  1.55 )\n",
      "Focus: ( -0.3 ,  1.6 )\n",
      "Directrix: y= -198\n"
     ]
    }
   ],
   "source": [
    "def par(a,b,c):\n",
    "    print (\"Vertex: (\" , (-b / (2 * a)) , \", \"\n",
    "        ,(((4 * a * c) - (b * b)) / (4 * a)) , \")\" ) \n",
    "          \n",
    "    print (\"Focus: (\" , (-b / (2 * a)) , \", \"\n",
    "        , (((4 * a * c) - (b * b) + 1) / (4 * a)) , \")\" ) \n",
    "      \n",
    "    print (\"Directrix: y=\"\n",
    "            , (int)(c - ((b * b) + 1) * 4 * a ))     \n",
    "    \n",
    "par(5,3,2)"
   ]
  },
  {
   "cell_type": "code",
   "execution_count": null,
   "metadata": {},
   "outputs": [],
   "source": []
  },
  {
   "cell_type": "code",
   "execution_count": 3,
   "metadata": {},
   "outputs": [
    {
     "name": "stdout",
     "output_type": "stream",
     "text": [
      "match\n"
     ]
    }
   ],
   "source": [
    "import re\n",
    "def check(d):\n",
    "    p='^[a-z][(?=.*0-9)(?=.*a-z)(?=.*A-Z)(?=.*-_.)]{4,13}[0-9a-z][@][0-9a-z]{3,9}[.][a-z]{2,3}'\n",
    "    if(re.match(p,d)):\n",
    "            print(\"match\")\n",
    "    else:\n",
    "        print(\"not match\")\n",
    "check('sunilsriharhsa9@gmail.com')\n",
    "#check(\"12hbfuj@mfg.in\")"
   ]
  },
  {
   "cell_type": "code",
   "execution_count": null,
   "metadata": {},
   "outputs": [],
   "source": [
    ".*[a-z].*"
   ]
  },
  {
   "cell_type": "code",
   "execution_count": null,
   "metadata": {},
   "outputs": [],
   "source": []
  },
  {
   "cell_type": "code",
   "execution_count": 1,
   "metadata": {},
   "outputs": [
    {
     "data": {
      "text/plain": [
       "'Data in line 1\\nData in line 2\\nData in line 3'"
      ]
     },
     "execution_count": 1,
     "metadata": {},
     "output_type": "execute_result"
    }
   ],
   "source": [
    "def readFileData(filename):\n",
    "    f=open(filename,'r')   # with open (filename,'r') as f\n",
    "    filedata = f.read()\n",
    "    \n",
    "    f.close()\n",
    "    return filedata\n",
    "readFileData('DataFiles/data.txt')"
   ]
  },
  {
   "cell_type": "code",
   "execution_count": 3,
   "metadata": {
    "scrolled": true
   },
   "outputs": [
    {
     "name": "stdout",
     "output_type": "stream",
     "text": [
      "Data in line 1\n",
      "Data in line 2\n",
      "Data in line 3\n"
     ]
    }
   ],
   "source": [
    "def readFileData(filename):\n",
    "    with open (filename,'r') as f:\n",
    "        print(f.read())\n",
    "    return \n",
    "readFileData('DataFiles/data.txt')"
   ]
  },
  {
   "cell_type": "code",
   "execution_count": 6,
   "metadata": {},
   "outputs": [],
   "source": [
    "def writeIntoFile(filename,data):\n",
    "    with open(filename,'w') as f:\n",
    "        f.write(data)\n",
    "    \n",
    "    return \n",
    "#readFileData('DataFiles/data.txt')\n",
    "writeIntoFile('DataFiles/data1.txt','w')"
   ]
  },
  {
   "cell_type": "code",
   "execution_count": null,
   "metadata": {},
   "outputs": [],
   "source": []
  },
  {
   "cell_type": "markdown",
   "metadata": {},
   "source": [
    "### Problem 2: \n",
    "#### Problem Statement : \n",
    "Define a function to genrate a marks data file for 1300 students such that each mark is in new line .marks in range (0,100)"
   ]
  },
  {
   "cell_type": "code",
   "execution_count": 57,
   "metadata": {},
   "outputs": [],
   "source": [
    "import random\n",
    "def marks(filename,n):\n",
    "        with open (filename,'w') as f:\n",
    "            for i in range(0,n):\n",
    "                marks=random.randint(1,100)\n",
    "                f.write(str(marks)+'\\n')\n",
    "marks('DataFiles/marks',1300)"
   ]
  },
  {
   "cell_type": "code",
   "execution_count": null,
   "metadata": {},
   "outputs": [],
   "source": []
  },
  {
   "cell_type": "markdown",
   "metadata": {},
   "source": [
    "### Problem 3: \n",
    "#### Problem Statement : Generation of report with \n",
    "* HIGHEST MARK\n",
    "* LOWEST MARK\n",
    "* AVG MARK\n",
    "* NO OF STUDENTS WITH DISTINCTION\n",
    "* NO OF STUDENTS WITH FIRST CLASS\n",
    "* NO OF STUDENTS WITH SECOND CLASS\n",
    "* NO OF STUDENTS WITH THIRD CLASS\n",
    "* NO OF STUDENTS FAIL "
   ]
  },
  {
   "cell_type": "code",
   "execution_count": 2,
   "metadata": {},
   "outputs": [],
   "source": [
    "def reading(filename):\n",
    "    marks_array=[ ]\n",
    "    with open (filename,'r') as f:\n",
    "        for x in f:\n",
    "            marks_array.append(int(x))\n",
    "    calculating(marks_array)\n",
    "def calculating(marks_array):\n",
    "    for i in range(1,len(marks_array)):\n",
    "        maxi=max(marks_array)\n",
    "        mini=min(marks_array)\n",
    "        avg=sum(marks_array)//len(marks_array)\n",
    "    dc=0\n",
    "    fc=0\n",
    "    sc=0\n",
    "    tc=0\n",
    "    fa=0\n",
    "    for i in range(1,len(marks_array)):\n",
    "        if(marks_array[i]>=80): dc=dc+1\n",
    "        if(marks_array[i]>=60 and marks_array[i]<80): fc=fc+1\n",
    "        if(marks_array[i]>=50 and marks_array[i]<60): sc=sc+1\n",
    "        if(marks_array[i]>=40 and marks_array[i]<50): tc=tc+1\n",
    "        if(40>marks_array[i]): fa=fa+1\n",
    "    #print(marks_array)\n",
    "    display('DataFiles/report',maxi,mini,avg,dc,fc,sc,tc,fa)\n",
    "def display(filename,maxi,mini,avg,dc,fc,sc,tc,fa):\n",
    "     with open (filename,'w') as f:\n",
    "            f.write(\"maximum marks =\"+str(maxi) +'\\n')\n",
    "            f.write(\"minimum marks =\"+str(mini) +'\\n')\n",
    "            f.write(\"average marks =\"+str(avg) +'\\n')\n",
    "            f.write(\"no of students with distinction is  =\"+str(dc)+'\\n')\n",
    "            f.write(\"no of students with first class is  =\"+str(fc)+'\\n')\n",
    "            f.write(\"no of students with second class is  =\"+str(sc)+'\\n')\n",
    "            f.write(\"no of students with third class is  =\"+str(tc)+'\\n')\n",
    "            f.write(\"no of students with fail is  =\"+str(fa)+'\\n')\n",
    "            return \n",
    "reading('DataFiles/marks')"
   ]
  },
  {
   "cell_type": "code",
   "execution_count": null,
   "metadata": {},
   "outputs": [],
   "source": []
  },
  {
   "cell_type": "code",
   "execution_count": 245,
   "metadata": {},
   "outputs": [
    {
     "name": "stdout",
     "output_type": "stream",
     "text": [
      "0.00017691099856165238\n"
     ]
    }
   ],
   "source": [
    "import timeit\n",
    "start=timeit.default_timer()\n",
    "def square(n):\n",
    "    return n*n\n",
    "li=[1,2,3,4,5,6]\n",
    "#s=str(li)\n",
    "x=list(map(square,li))\n",
    "x\n",
    "print((timeit.default_timer())-start)"
   ]
  },
  {
   "cell_type": "code",
   "execution_count": null,
   "metadata": {},
   "outputs": [],
   "source": []
  },
  {
   "cell_type": "code",
   "execution_count": 5,
   "metadata": {},
   "outputs": [
    {
     "name": "stdout",
     "output_type": "stream",
     "text": [
      "[[0 1 2]\n",
      " [3 4 5]]\n",
      "<class 'numpy.ndarray'>\n",
      "[[5, 5, 5], [6, 6, 6]]\n"
     ]
    },
    {
     "data": {
      "text/plain": [
       "list"
      ]
     },
     "execution_count": 5,
     "metadata": {},
     "output_type": "execute_result"
    }
   ],
   "source": [
    "import numpy as np \n",
    "a=np.array([[0,1,2],[3,4,5]])\n",
    "b=([[5,5,5],[6,6,6]])\n",
    "print(a)\n",
    "print(type(a))\n",
    "print(b)\n",
    "type(b)"
   ]
  },
  {
   "cell_type": "code",
   "execution_count": 8,
   "metadata": {},
   "outputs": [
    {
     "name": "stdout",
     "output_type": "stream",
     "text": [
      "a= [[1 2 3]\n",
      " [4 5 6]]\n",
      "b= [[1 2 3]\n",
      " [4 5 6]]\n",
      "a*b=\n"
     ]
    },
    {
     "data": {
      "text/plain": [
       "array([[ 1,  4,  9],\n",
       "       [16, 25, 36]])"
      ]
     },
     "execution_count": 8,
     "metadata": {},
     "output_type": "execute_result"
    }
   ],
   "source": [
    "import numpy as np\n",
    "a=np.array([[1,2,3],[4,5,6]])\n",
    "b=np.array([[1,2,3],[4,5,6]])\n",
    "print('a=',a)\n",
    "print('b=',b)\n",
    "c=a*b\n",
    "print(\"a*b=\")\n",
    "c"
   ]
  },
  {
   "cell_type": "code",
   "execution_count": null,
   "metadata": {},
   "outputs": [],
   "source": []
  },
  {
   "cell_type": "code",
   "execution_count": null,
   "metadata": {},
   "outputs": [],
   "source": []
  },
  {
   "cell_type": "code",
   "execution_count": null,
   "metadata": {},
   "outputs": [],
   "source": []
  },
  {
   "cell_type": "code",
   "execution_count": null,
   "metadata": {},
   "outputs": [],
   "source": []
  }
 ],
 "metadata": {
  "kernelspec": {
   "display_name": "Python 3",
   "language": "python",
   "name": "python3"
  },
  "language_info": {
   "codemirror_mode": {
    "name": "ipython",
    "version": 3
   },
   "file_extension": ".py",
   "mimetype": "text/x-python",
   "name": "python",
   "nbconvert_exporter": "python",
   "pygments_lexer": "ipython3",
   "version": "3.7.3"
  }
 },
 "nbformat": 4,
 "nbformat_minor": 2
}
