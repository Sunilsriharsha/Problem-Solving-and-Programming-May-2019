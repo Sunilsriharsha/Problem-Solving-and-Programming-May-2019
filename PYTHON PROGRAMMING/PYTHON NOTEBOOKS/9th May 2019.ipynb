{
 "cells": [
  {
   "cell_type": "markdown",
   "metadata": {},
   "source": [
    "## Problem solving and Programming \n",
    "\n",
    "### Day No :  6\n",
    "### Date :  9th May 2019\n",
    "### Day objectives :\n",
    "* Objective 1:\n",
    "* Objective 2:\n"
   ]
  },
  {
   "cell_type": "markdown",
   "metadata": {},
   "source": [
    "### Problem 1:\n",
    "#### Problem Statement :Greet"
   ]
  },
  {
   "cell_type": "code",
   "execution_count": 1,
   "metadata": {
    "scrolled": true
   },
   "outputs": [
    {
     "name": "stdout",
     "output_type": "stream",
     "text": [
      "good morning\n"
     ]
    }
   ],
   "source": [
    "print(\"good morning\")"
   ]
  },
  {
   "cell_type": "code",
   "execution_count": null,
   "metadata": {},
   "outputs": [],
   "source": []
  },
  {
   "cell_type": "markdown",
   "metadata": {},
   "source": [
    "### Problem 2:\n",
    "#### Problem Statement :Greeting spicific person"
   ]
  },
  {
   "cell_type": "code",
   "execution_count": 2,
   "metadata": {
    "scrolled": true
   },
   "outputs": [
    {
     "name": "stdout",
     "output_type": "stream",
     "text": [
      "enter name harsha\n",
      "good morning\n",
      "harsha\n"
     ]
    }
   ],
   "source": [
    "name =input(\"enter name \")\n",
    "print(\"good morning\"+'\\n'+name)"
   ]
  },
  {
   "cell_type": "code",
   "execution_count": null,
   "metadata": {},
   "outputs": [],
   "source": []
  },
  {
   "cell_type": "markdown",
   "metadata": {},
   "source": [
    "### Problem 3:\n",
    "#### Problem Statement :Arithmetic Operations"
   ]
  },
  {
   "cell_type": "code",
   "execution_count": 10,
   "metadata": {
    "scrolled": true
   },
   "outputs": [
    {
     "name": "stdout",
     "output_type": "stream",
     "text": [
      " enter number10\n",
      "enter number5\n",
      "15\n",
      "5\n",
      "50\n",
      "2.0\n"
     ]
    }
   ],
   "source": [
    "a=input(\" enter number\")\n",
    "b=input(\"enter number\")\n",
    "print(int(a)+int(b))\n",
    "print(int(a)-int(b))\n",
    "print(int(a)*int(b))\n",
    "print(int(a)/int(b))"
   ]
  },
  {
   "cell_type": "code",
   "execution_count": null,
   "metadata": {},
   "outputs": [],
   "source": []
  },
  {
   "cell_type": "markdown",
   "metadata": {},
   "source": [
    "### Problem 4:\n",
    "#### Problem Statement : Non Trigonometric"
   ]
  },
  {
   "cell_type": "code",
   "execution_count": 16,
   "metadata": {
    "scrolled": false
   },
   "outputs": [
    {
     "name": "stdout",
     "output_type": "stream",
     "text": [
      "enter number9\n",
      "3.0\n"
     ]
    }
   ],
   "source": [
    "import math\n",
    "n=input(\"enter number\")\n",
    "print(math.sqrt(int(n)))\n"
   ]
  },
  {
   "cell_type": "code",
   "execution_count": null,
   "metadata": {},
   "outputs": [],
   "source": []
  },
  {
   "cell_type": "markdown",
   "metadata": {},
   "source": [
    "### Problem 5:\n",
    "#### Problem Statement :  Polynomial\n",
    "#### Constraints: Number in range of [1,1000]"
   ]
  },
  {
   "cell_type": "code",
   "execution_count": 32,
   "metadata": {
    "scrolled": false
   },
   "outputs": [
    {
     "name": "stdout",
     "output_type": "stream",
     "text": [
      "enter number2\n",
      "12\n"
     ]
    }
   ],
   "source": [
    "x=input(\"enter number\")\n",
    "w=int(x)\n",
    "print(w**3 + 2*(w**2) + 3*w - 10)\n"
   ]
  },
  {
   "cell_type": "code",
   "execution_count": null,
   "metadata": {},
   "outputs": [],
   "source": []
  },
  {
   "cell_type": "markdown",
   "metadata": {},
   "source": [
    "### Problem 6:\n",
    "#### Problem Statement : Checking wether even or odd"
   ]
  },
  {
   "cell_type": "code",
   "execution_count": 23,
   "metadata": {
    "scrolled": false
   },
   "outputs": [
    {
     "name": "stdout",
     "output_type": "stream",
     "text": [
      "enter number4\n",
      "even\n"
     ]
    }
   ],
   "source": [
    "n=int(input(\"enter number\"))\n",
    "if (n%2==0):\n",
    "    print(\"even\")\n",
    "else:\n",
    "    print(\"odd\")"
   ]
  },
  {
   "cell_type": "code",
   "execution_count": null,
   "metadata": {},
   "outputs": [],
   "source": []
  },
  {
   "cell_type": "markdown",
   "metadata": {},
   "source": [
    "### Problem 7:\n",
    "#### Problem Statement :  To check greatest of 3 numbers"
   ]
  },
  {
   "cell_type": "code",
   "execution_count": 28,
   "metadata": {},
   "outputs": [
    {
     "name": "stdout",
     "output_type": "stream",
     "text": [
      "enter number 1  : 3\n",
      "enter number 2  : 4\n",
      "enter number 3  : 5\n",
      "5\n"
     ]
    }
   ],
   "source": [
    "x=int(input(\"enter number 1  : \"))\n",
    "y=int(input(\"enter number 2  : \"))\n",
    "z=int(input(\"enter number 3  : \"))\n",
    "if(x>y and x>z):\n",
    "    print(x)\n",
    "elif(x>y and x<z):\n",
    "    print(z)\n",
    "elif(x<y and y<z):\n",
    "    print(z)\n",
    "elif(x<y and y>z):\n",
    "    print(y)\n",
    "    \n"
   ]
  },
  {
   "cell_type": "code",
   "execution_count": null,
   "metadata": {},
   "outputs": [],
   "source": []
  },
  {
   "cell_type": "markdown",
   "metadata": {},
   "source": [
    "### Problem 8:\n",
    "#### Problem Statement :Testing Divisibility with 2 and 3 but not 4"
   ]
  },
  {
   "cell_type": "code",
   "execution_count": 4,
   "metadata": {},
   "outputs": [
    {
     "name": "stdout",
     "output_type": "stream",
     "text": [
      "enter number6\n",
      "true\n"
     ]
    }
   ],
   "source": [
    "n=int(input(\"enter number\"))\n",
    "if(n%2==0 and n%3==0 and n%4!=0):\n",
    "    print(\"true\")\n",
    "else :\n",
    "    print(\"false\")"
   ]
  },
  {
   "cell_type": "code",
   "execution_count": null,
   "metadata": {},
   "outputs": [],
   "source": []
  },
  {
   "cell_type": "markdown",
   "metadata": {},
   "source": [
    "### Problem 9:\n",
    "#### Problem Statement :Given 2 ints, a and b, return True if one if them is 10 or if their sum is 10.\n",
    "#### Test Cases:\n",
    "* Test Case 1:(10,9) -> True\n",
    "* Test Case 2:(9,9) -> False\n",
    "* Test Case 3:(5,5) -> True"
   ]
  },
  {
   "cell_type": "code",
   "execution_count": 1,
   "metadata": {
    "scrolled": false
   },
   "outputs": [
    {
     "name": "stdout",
     "output_type": "stream",
     "text": [
      "enter number 1 : 10\n",
      "enter number 2 : 9\n",
      "True\n"
     ]
    }
   ],
   "source": [
    "a=int(input(\"enter number 1 : \"))\n",
    "b=int(input(\"enter number 2 : \"))\n",
    "if(a==10 or b==10 or (a+b)==10):\n",
    "    print(\"True\")\n",
    "else :\n",
    "    print(\"False\")"
   ]
  },
  {
   "cell_type": "code",
   "execution_count": null,
   "metadata": {},
   "outputs": [],
   "source": []
  },
  {
   "cell_type": "markdown",
   "metadata": {},
   "source": [
    "### Problem 10:\n",
    "#### Problem Statement :Given 2 int values, return True if one is negative and one is positive or viceversa . Except if the third    parameter  is True, then return True only if first two parameters are negative.\n",
    "#### Test Cases:\n",
    "* Test Case 1: pos_neg(1,-1,False)-> True\n",
    "* Test Case 2: pos_neg(-1,1,False)-> True\n",
    "* Test Case 3: pos_neg(-4,-5,True)-> True\n",
    "* Test Case 4: pos_neg(-1,1,True) -> False \n",
    "* Test Case 5: pos_neg(1,6,True ) -> False\n",
    "* Test Case 6: pos_neg(-1,-9,False) -> Fasle\n",
    " "
   ]
  },
  {
   "cell_type": "code",
   "execution_count": 12,
   "metadata": {},
   "outputs": [
    {
     "name": "stdout",
     "output_type": "stream",
     "text": [
      "True\n",
      "True\n",
      "True\n",
      "False\n",
      "False\n",
      "False\n"
     ]
    }
   ],
   "source": [
    "def pos_neg(a,b,x):\n",
    "    if((a>0 and b<0 and x== False) or (a<0 and b>0 and x== False ) or (a<0 and b<0 and x==True)):\n",
    "        return True\n",
    "    else :\n",
    "        return False\n",
    "    \n",
    "    \n",
    "    \n",
    "print(pos_neg(1,-1,False))\n",
    "print(pos_neg(-1,1,False))\n",
    "print(pos_neg(-4,-5,True))\n",
    "print(pos_neg(-1,1,True))\n",
    "print(pos_neg(1,6,True))\n",
    "print(pos_neg(-1,-9,False))"
   ]
  },
  {
   "cell_type": "code",
   "execution_count": null,
   "metadata": {},
   "outputs": [],
   "source": []
  },
  {
   "cell_type": "markdown",
   "metadata": {},
   "source": [
    "### Problem 11:\n",
    "#### Problem Statement :Given an int n, return True if it is within 10 of 100 or 200. Note: abs(num) computes the absolute value of a number.\n",
    "#### Test Cases:\n",
    "* Test Case 1: near_hundred(93) → True\n",
    "* Test Case 2: near_hundred(90) → True\n",
    "* Test Case 3: near_hundred(89) → False"
   ]
  },
  {
   "cell_type": "code",
   "execution_count": 19,
   "metadata": {},
   "outputs": [
    {
     "name": "stdout",
     "output_type": "stream",
     "text": [
      "True\n",
      "True\n",
      "False\n"
     ]
    }
   ],
   "source": [
    "def near_hundred(n):\n",
    "    if(abs(n-100)<=10 or abs(n-200)<=10):\n",
    "        return True\n",
    "    else:\n",
    "        return False\n",
    "    \n",
    "\n",
    "print(near_hundred(93))\n",
    "print(near_hundred(90))\n",
    "print(near_hundred(89))"
   ]
  },
  {
   "cell_type": "code",
   "execution_count": null,
   "metadata": {},
   "outputs": [],
   "source": []
  },
  {
   "cell_type": "markdown",
   "metadata": {},
   "source": [
    "### Problem 12:\n",
    "#### Problem Statement : Design Functions for Arithmatic operations "
   ]
  },
  {
   "cell_type": "code",
   "execution_count": 23,
   "metadata": {},
   "outputs": [
    {
     "name": "stdout",
     "output_type": "stream",
     "text": [
      "15\n",
      "5\n",
      "50\n",
      "2.0\n"
     ]
    }
   ],
   "source": [
    "def add(x,y):\n",
    "    return (x+y)\n",
    "def sub(x,y):\n",
    "    return (x-y)\n",
    "def mul(x,y):\n",
    "    return (x*y)\n",
    "def div(x,y):\n",
    "    return (x/y)\n",
    "\n",
    "\n",
    "print(add(10,5))\n",
    "print(sub(10,5))\n",
    "print(mul(10,5))\n",
    "print(div(10,5))\n",
    "\n"
   ]
  },
  {
   "cell_type": "code",
   "execution_count": null,
   "metadata": {},
   "outputs": [],
   "source": []
  },
  {
   "cell_type": "markdown",
   "metadata": {},
   "source": [
    "### Problem 13:\n",
    "#### Problem Statement : Design Functions for Printing N natural numbers"
   ]
  },
  {
   "cell_type": "code",
   "execution_count": 25,
   "metadata": {},
   "outputs": [
    {
     "name": "stdout",
     "output_type": "stream",
     "text": [
      "1\n",
      "2\n",
      "3\n",
      "4\n",
      "5\n",
      "6\n",
      "7\n",
      "8\n",
      "9\n",
      "10\n",
      "11\n",
      "12\n",
      "13\n",
      "14\n",
      "15\n",
      "16\n",
      "17\n",
      "18\n",
      "19\n",
      "20\n"
     ]
    }
   ],
   "source": [
    "def natural(n):\n",
    "    for i in range (1,n+1):\n",
    "        print(i)\n",
    "        \n",
    "        \n",
    "natural (20)"
   ]
  },
  {
   "cell_type": "code",
   "execution_count": null,
   "metadata": {},
   "outputs": [],
   "source": []
  },
  {
   "cell_type": "markdown",
   "metadata": {},
   "source": [
    "### Problem 14:\n",
    "#### Problem Statement :  Function to give factorial for a given number"
   ]
  },
  {
   "cell_type": "code",
   "execution_count": 41,
   "metadata": {
    "scrolled": true
   },
   "outputs": [
    {
     "name": "stdout",
     "output_type": "stream",
     "text": [
      "120\n",
      "720\n"
     ]
    }
   ],
   "source": [
    "def facto(n):\n",
    "    fact =1\n",
    "    for i in range(1,n+1):\n",
    "        fact=fact*i\n",
    "    return(fact)\n",
    "    \n",
    "    \n",
    "print(facto(5))\n",
    "print(facto(6))"
   ]
  },
  {
   "cell_type": "code",
   "execution_count": null,
   "metadata": {},
   "outputs": [],
   "source": []
  },
  {
   "cell_type": "markdown",
   "metadata": {},
   "source": [
    "### Problem 15:\n",
    "#### Problem Statement :  Function  to generate multiplication tables\n",
    "#### Test Cases:\n",
    "* Test Case 1: MT(3, 5, 7) -> 3 X 5 = 15\n",
    "\n",
    "*                             3 X 6 = 18\n",
    "\n",
    "*                             3 X 7 = 21"
   ]
  },
  {
   "cell_type": "code",
   "execution_count": 48,
   "metadata": {},
   "outputs": [
    {
     "name": "stdout",
     "output_type": "stream",
     "text": [
      "3 * 5 = 15\n",
      "3 * 6 = 18\n",
      "3 * 7 = 21\n"
     ]
    }
   ],
   "source": [
    "def MT(n,x,y):\n",
    "    for i in range(x,y+1):\n",
    "        print(n,\"*\",i,\"=\",(n*i))\n",
    "MT(3,5,7)"
   ]
  },
  {
   "cell_type": "code",
   "execution_count": null,
   "metadata": {},
   "outputs": [],
   "source": []
  },
  {
   "cell_type": "markdown",
   "metadata": {},
   "source": [
    "### Problem 16:\n",
    "#### Problem Statement :  Create a Random Number Generator as a Procedure which takes the Range(lb, ub) and returns a Random number in the given range\n",
    "#### Constraints:lb< random<ub\n",
    "#### Test Cases:\n",
    "* Test Case: Random(1,100)->will be in range (1,100)"
   ]
  },
  {
   "cell_type": "code",
   "execution_count": 57,
   "metadata": {},
   "outputs": [
    {
     "data": {
      "text/plain": [
       "70"
      ]
     },
     "execution_count": 57,
     "metadata": {},
     "output_type": "execute_result"
    }
   ],
   "source": [
    "import random\n",
    "\n",
    "def Random(lb,ub):\n",
    "    return random.randrange(lb+1,ub)\n",
    "    \n",
    "Random(1,101)"
   ]
  },
  {
   "cell_type": "code",
   "execution_count": null,
   "metadata": {},
   "outputs": [],
   "source": []
  },
  {
   "cell_type": "markdown",
   "metadata": {},
   "source": [
    "### Problem 17:\n",
    "#### Problem Statement :  Function to print factors of a given number\n",
    "#### Test Cases:\n",
    "* Test Case 1: FactorList(6)  ->  1 2 3 6\n",
    "* Test Case 2: FactorList (9) ->   1 3 9\n",
    "* Test Case 3: FactorList (19) ->  1  19"
   ]
  },
  {
   "cell_type": "code",
   "execution_count": 65,
   "metadata": {},
   "outputs": [
    {
     "name": "stdout",
     "output_type": "stream",
     "text": [
      "1  2  3  6  None\n",
      "1  3  9  None\n",
      "1  19  None\n"
     ]
    }
   ],
   "source": [
    "def FactorList(n):\n",
    "    for i in range (1,n+1):\n",
    "        if (n%i==0):\n",
    "            print(i,end=\"  \")\n",
    "            \n",
    "            \n",
    "print(FactorList(6))\n",
    "print(FactorList(9))\n",
    "print(FactorList(19))"
   ]
  },
  {
   "cell_type": "code",
   "execution_count": null,
   "metadata": {},
   "outputs": [],
   "source": []
  },
  {
   "cell_type": "markdown",
   "metadata": {},
   "source": [
    "### Problem 18:\n",
    "#### Problem Statement : Given a integer N, calculate the sum of N random range  with in range [1,1000000000000000]\n",
    "#### Constraints:1<n<1000000000000000"
   ]
  },
  {
   "cell_type": "code",
   "execution_count": 66,
   "metadata": {},
   "outputs": [
    {
     "data": {
      "text/plain": [
       "4823"
      ]
     },
     "execution_count": 66,
     "metadata": {},
     "output_type": "execute_result"
    }
   ],
   "source": [
    "import random\n",
    "\n",
    "def sumrandom(n,lb,ub):\n",
    "    sum=0\n",
    "    for i in range(1,n+1):\n",
    "        sum+=random.randint(lb,ub)\n",
    "    return sum\n",
    "sumrandom(10,1,1000)"
   ]
  },
  {
   "cell_type": "code",
   "execution_count": null,
   "metadata": {},
   "outputs": [],
   "source": []
  },
  {
   "cell_type": "markdown",
   "metadata": {},
   "source": [
    "### Problem 19:\n",
    "#### Problem Statement : Function to check prime or not "
   ]
  },
  {
   "cell_type": "code",
   "execution_count": 19,
   "metadata": {},
   "outputs": [
    {
     "name": "stdout",
     "output_type": "stream",
     "text": [
      "prime\n",
      "not prime\n"
     ]
    }
   ],
   "source": [
    "def prime(n):\n",
    "    f=0\n",
    "    for i in range (2,n):\n",
    "        if(n%i==0):\n",
    "            f=f+1\n",
    "    if(f==0):\n",
    "        print(\"prime\")\n",
    "    else:\n",
    "        print(\"not prime\")\n",
    "        \n",
    "prime(2)\n",
    "prime(6)"
   ]
  },
  {
   "cell_type": "code",
   "execution_count": null,
   "metadata": {},
   "outputs": [],
   "source": []
  },
  {
   "cell_type": "markdown",
   "metadata": {},
   "source": [
    "### Problem 20:\n",
    "#### Problem Statement : Function to count the number of digits in a given number.\n",
    "#### Test Case:\n",
    "* Test Case 1: Count(123456) ->  6\n",
    "* Test Case 2: Count(0) ->  1"
   ]
  },
  {
   "cell_type": "code",
   "execution_count": 2,
   "metadata": {
    "scrolled": false
   },
   "outputs": [
    {
     "name": "stdout",
     "output_type": "stream",
     "text": [
      "6\n",
      "1\n"
     ]
    }
   ],
   "source": [
    "import math\n",
    "def count(n):\n",
    "    c=0\n",
    "    if(n==0):\n",
    "        return 1\n",
    "    while (math.floor(n)>0):\n",
    "        n=n/10\n",
    "        c=c+1\n",
    "    return (c)\n",
    "\n",
    "\n",
    "\n",
    "print(count(123456))\n",
    "print(count(0))"
   ]
  },
  {
   "cell_type": "code",
   "execution_count": null,
   "metadata": {},
   "outputs": [],
   "source": []
  },
  {
   "cell_type": "markdown",
   "metadata": {},
   "source": [
    "### Problem 21:\n",
    "#### Problem Statement : Function to perform linear search\n",
    "#### Constraints : Unique List \n",
    "#### Test Cases:\n",
    "* ls([1,4,8,0,3,5,6],3)->4\n",
    "* ls([15,12,9,6,3,-3],0) ->-1\n",
    "* ls([321,543,567,789],567)->2"
   ]
  },
  {
   "cell_type": "code",
   "execution_count": 12,
   "metadata": {
    "scrolled": true
   },
   "outputs": [
    {
     "name": "stdout",
     "output_type": "stream",
     "text": [
      "4\n",
      "-1\n",
      "2\n"
     ]
    }
   ],
   "source": [
    "def ls(li,key):\n",
    "    for i in range(len(li)):\n",
    "        if(key==li[i]):\n",
    "            return i\n",
    "    return -1   \n",
    "        \n",
    "        \n",
    "        \n",
    "print(ls([1,4,8,0,3,5,6],3))\n",
    "print(ls([15,12,9,6,3,-3],0))\n",
    "print(ls([321,543,567,789],567))"
   ]
  },
  {
   "cell_type": "code",
   "execution_count": null,
   "metadata": {},
   "outputs": [],
   "source": []
  },
  {
   "cell_type": "markdown",
   "metadata": {},
   "source": [
    "### Problem 22:\n",
    "#### Problem Statement :  Function to check perfect number or not \n",
    "#### Test Case :\n",
    "* Test Case 1:IsPerfect(3) -> False\n",
    "* Test Case 2: IsPerfect (6) -> True"
   ]
  },
  {
   "cell_type": "code",
   "execution_count": 17,
   "metadata": {},
   "outputs": [
    {
     "name": "stdout",
     "output_type": "stream",
     "text": [
      "False\n",
      "True\n"
     ]
    }
   ],
   "source": [
    "def IsPerfect(n):\n",
    "    sum=0\n",
    "    for i in range(1,n):\n",
    "        if (n%i==0):\n",
    "            sum=sum+i\n",
    "    if (sum==n):\n",
    "        return True\n",
    "    else :\n",
    "        return False\n",
    "        \n",
    "        \n",
    "print(IsPerfect(3))\n",
    "print(IsPerfect(6))"
   ]
  },
  {
   "cell_type": "code",
   "execution_count": null,
   "metadata": {},
   "outputs": [],
   "source": []
  },
  {
   "cell_type": "markdown",
   "metadata": {},
   "source": [
    "### Problem 23:\n",
    "#### Problem Statement :  Function to calculate min max and avg \n",
    "#### Test Case :\n",
    "* Test Case 1:data( a[1,2,3,4,5] ) -> Max = 5, Min = 1, Avg = 3"
   ]
  },
  {
   "cell_type": "code",
   "execution_count": 25,
   "metadata": {},
   "outputs": [
    {
     "name": "stdout",
     "output_type": "stream",
     "text": [
      "max : 5\n",
      "min : 1\n",
      "avg : 3.0\n"
     ]
    }
   ],
   "source": [
    "def data(li):\n",
    "    n=len(li)\n",
    "    print(\"max :\",max(li))\n",
    "    print(\"min :\",min(li))\n",
    "    print(\"avg :\",(sum(li))/n)\n",
    "    \n",
    "a=[1,2,3,4,5]\n",
    "data(a)"
   ]
  },
  {
   "cell_type": "code",
   "execution_count": null,
   "metadata": {},
   "outputs": [],
   "source": []
  },
  {
   "cell_type": "markdown",
   "metadata": {},
   "source": [
    "### Problem 24\n",
    "#### Problem Statement : Function to check palindromw or not\n",
    "#### Test Case :\n",
    "* Test Case 1:Palindrome(\"racecar\") -> True\n",
    "* Test Case 2:Palindrome(\"raptor\") -> False"
   ]
  },
  {
   "cell_type": "code",
   "execution_count": 8,
   "metadata": {},
   "outputs": [
    {
     "data": {
      "text/plain": [
       "True"
      ]
     },
     "execution_count": 8,
     "metadata": {},
     "output_type": "execute_result"
    }
   ],
   "source": [
    "def pali(str):\n",
    "    rev=str[len(str)-1::-1]\n",
    "    if(str==rev):\n",
    "        return True\n",
    "    return False \n",
    "\n",
    "pali(\"racecar\")"
   ]
  },
  {
   "cell_type": "code",
   "execution_count": null,
   "metadata": {},
   "outputs": [],
   "source": []
  },
  {
   "cell_type": "markdown",
   "metadata": {},
   "source": [
    "### Problem 25\n",
    "#### Problem Statement : Square root without math function \n",
    "#### Test Case :\n",
    "* Test Case 1:Squareroot(36) -> 6"
   ]
  },
  {
   "cell_type": "code",
   "execution_count": 12,
   "metadata": {
    "scrolled": false
   },
   "outputs": [
    {
     "data": {
      "text/plain": [
       "6.0"
      ]
     },
     "execution_count": 12,
     "metadata": {},
     "output_type": "execute_result"
    }
   ],
   "source": [
    "def Squareroot(n):\n",
    "    return (n**(0.5))\n",
    "Squareroot(36)"
   ]
  },
  {
   "cell_type": "code",
   "execution_count": null,
   "metadata": {},
   "outputs": [],
   "source": []
  },
  {
   "cell_type": "markdown",
   "metadata": {},
   "source": [
    "### Problem 26\n",
    "#### Problem Statement : Function to check frequency of unique number in a list\n",
    "#### Test Case :\n",
    "* Test Case 1:Frequency( a[1,3,2,1] ) -> 1 : 2, 2 : 1, 3 : 1"
   ]
  },
  {
   "cell_type": "code",
   "execution_count": null,
   "metadata": {},
   "outputs": [],
   "source": [
    "def frequency(li):\n",
    "    li.sort()\n",
    "    index=0\n",
    "    n=len(li)\n",
    "    for i in range (n):\n",
    "        j=i+1\n",
    "        flag=0\n",
    "        for j in range (n):\n",
    "            while(flag==0):\n",
    "                if (li[i]!=li[j]):\n",
    "                    flag=1\n",
    "        if(flag==0):\n",
    "            uni[index]=li[i]\n",
    "            index=index+1\n",
    "    l=len(uni)\n",
    "    for i in range(l):\n",
    "        print(\"uni[i] :\"li.count[uni[l]] ,end=\" \")\n",
    "        \n",
    "li=[1,3,2,1]\n",
    "frequency(li)"
   ]
  },
  {
   "cell_type": "code",
   "execution_count": null,
   "metadata": {},
   "outputs": [],
   "source": []
  },
  {
   "cell_type": "markdown",
   "metadata": {},
   "source": [
    "### Problem 27\n",
    "#### Problem Statement : Design a procedure to sort a given array in ascending order\n",
    "#### Test Case :\n",
    "* Test Case 1:sort([3, 2, 1, 4, 4, 5, 6]) -> [1, 2, 3, 4, 4, 5, 6]\n",
    "* Test Case 2:sort([1, 2, 3]) -> [1, 2, 3]"
   ]
  },
  {
   "cell_type": "code",
   "execution_count": 5,
   "metadata": {},
   "outputs": [
    {
     "data": {
      "text/plain": [
       "[1, 2, 3]"
      ]
     },
     "execution_count": 5,
     "metadata": {},
     "output_type": "execute_result"
    }
   ],
   "source": [
    "def sort(li):\n",
    "    return(li.sort())\n",
    "\n",
    "li=[3, 2, 1, 4, 4, 5, 6]\n",
    "sort(li)\n",
    "li\n",
    "li=[1, 2, 3]\n",
    "sort(li)\n",
    "li"
   ]
  },
  {
   "cell_type": "code",
   "execution_count": null,
   "metadata": {},
   "outputs": [],
   "source": []
  }
 ],
 "metadata": {
  "kernelspec": {
   "display_name": "Python 3",
   "language": "python",
   "name": "python3"
  },
  "language_info": {
   "codemirror_mode": {
    "name": "ipython",
    "version": 3
   },
   "file_extension": ".py",
   "mimetype": "text/x-python",
   "name": "python",
   "nbconvert_exporter": "python",
   "pygments_lexer": "ipython3",
   "version": "3.7.3"
  }
 },
 "nbformat": 4,
 "nbformat_minor": 2
}
