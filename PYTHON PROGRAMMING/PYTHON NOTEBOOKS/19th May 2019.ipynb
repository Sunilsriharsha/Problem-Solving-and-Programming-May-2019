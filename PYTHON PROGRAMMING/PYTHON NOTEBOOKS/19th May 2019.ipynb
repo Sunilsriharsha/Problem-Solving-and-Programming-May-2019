{
 "cells": [
  {
   "cell_type": "markdown",
   "metadata": {},
   "source": [
    "## Problem solving and Programming \n",
    "\n",
    "### Day No  :16\n",
    "### Date - 19 May '19\n",
    "### Day objectives :\n",
    "* Objective 1: Level 2 problems in pyhton\n",
    "* Objective 2: "
   ]
  },
  {
   "cell_type": "code",
   "execution_count": null,
   "metadata": {},
   "outputs": [],
   "source": [
    "import sympy\n",
    "def check(n):\n",
    "    for i in range((n**2)+1,(n+1)**2):\n",
    "        if(sympy.isprime(i)):\n",
    "            print(i)\n",
    "check(4)"
   ]
  },
  {
   "cell_type": "code",
   "execution_count": null,
   "metadata": {},
   "outputs": [],
   "source": [
    "import matplotlib.pyplot as plt\n",
    "import random\n",
    "import time\n",
    "from IPython.display import clear_output\n",
    "n=1\n",
    "x=[]\n",
    "y=[]\n",
    "while(n>0):\n",
    "    x.append(n)\n",
    "    y.append(random.randint(1,100))\n",
    "    plt.plot(x,y)\n",
    "    plt.show()\n",
    "    plt.title('STOCK VALUE OF YVSS_155 ')\n",
    "    time.sleep(60)\n",
    "    clear_output()\n",
    "    n=n+1"
   ]
  },
  {
   "cell_type": "code",
   "execution_count": null,
   "metadata": {},
   "outputs": [],
   "source": []
  },
  {
   "cell_type": "markdown",
   "metadata": {},
   "source": [
    "### Problem 1:\n",
    "#### Problem Statement :\n",
    "  Consider the following algorithm to generate a sequence of numbers. Start with an integer n. If n is even, divide by 2. If n is odd, multiply by 3 and add 1. Repeat this process with the new value of n, terminating when n = 1. For example, the following sequence of numbers will be generated for n = 22:\n",
    "\n",
    "22 11 34 17 52 26 13 40 20 10 5 16 8 4 2 1\n",
    "\n",
    "It is conjectured (but not yet proven) that this algorithm will terminate at n = 1 for every integer n. Still, the conjecture holds for all integers up to at least 1, 000, 000. For an input n, the cycle-length of n is the number of numbers generated up to and including the 1. In the example above, the cycle length of 22 is 16. Given any two numbers i and j, you are to determine the maximum cycle length over all numbers between i and j, including both endpoints."
   ]
  },
  {
   "cell_type": "code",
   "execution_count": 1,
   "metadata": {},
   "outputs": [
    {
     "name": "stdout",
     "output_type": "stream",
     "text": [
      "900 1000 174\n",
      "0.0024706029999999046\n"
     ]
    }
   ],
   "source": [
    "import timeit\n",
    "def num(i,j):\n",
    "    start=timeit.default_timer()\n",
    "    print(i,end=\" \")\n",
    "    print(j,end=\" \")\n",
    "    li=[]\n",
    "    for i in range(i,j+1):\n",
    "        n=i\n",
    "        c=0\n",
    "        while(n>1):\n",
    "            c=c+1\n",
    "            if(n%2==0):\n",
    "                n=n//2\n",
    "               # print(\"hi\")\n",
    "            else:\n",
    "                n=((n*3)+1)\n",
    "        li.append(c)\n",
    "    print(max(li)+1)\n",
    "    print((timeit.default_timer())-start)\n",
    "num(900,1000)"
   ]
  },
  {
   "cell_type": "code",
   "execution_count": null,
   "metadata": {},
   "outputs": [],
   "source": []
  }
 ],
 "metadata": {
  "kernelspec": {
   "display_name": "Python 3",
   "language": "python",
   "name": "python3"
  },
  "language_info": {
   "codemirror_mode": {
    "name": "ipython",
    "version": 3
   },
   "file_extension": ".py",
   "mimetype": "text/x-python",
   "name": "python",
   "nbconvert_exporter": "python",
   "pygments_lexer": "ipython3",
   "version": "3.7.3"
  }
 },
 "nbformat": 4,
 "nbformat_minor": 2
}
