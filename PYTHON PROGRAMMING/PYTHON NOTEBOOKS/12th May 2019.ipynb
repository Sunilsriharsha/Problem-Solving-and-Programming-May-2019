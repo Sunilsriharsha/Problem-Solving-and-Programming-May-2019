{
 "cells": [
  {
   "cell_type": "markdown",
   "metadata": {},
   "source": [
    "## Problem solving and Programming \n",
    "\n",
    "### Day No  :9\n",
    "### Date - 12 May '19\n",
    "### Day objectives :\n",
    "* Objective 1:\n",
    "* Objective 2:"
   ]
  },
  {
   "cell_type": "markdown",
   "metadata": {},
   "source": [
    "### Problem 1: \n",
    "#### Problem Statement : Rotation of array"
   ]
  },
  {
   "cell_type": "code",
   "execution_count": 23,
   "metadata": {},
   "outputs": [
    {
     "data": {
      "text/plain": [
       "[3, 4, 5, 1, 2]"
      ]
     },
     "execution_count": 23,
     "metadata": {},
     "output_type": "execute_result"
    }
   ],
   "source": [
    "def rot(li,n):\n",
    "    temp=[]\n",
    "    for i  in range(n):\n",
    "        temp.append(a[i])\n",
    "    for i in range(n):\n",
    "        for j in range(len(a)-1):\n",
    "            a[j]=a[j+1]\n",
    "    for i in range(n):\n",
    "        li.pop()\n",
    "    for i in range(n):\n",
    "        li.append(temp[i])\n",
    "    return a   \n",
    "a=[1,2,3,4,5]\n",
    "rot(a,2)"
   ]
  },
  {
   "cell_type": "code",
   "execution_count": null,
   "metadata": {},
   "outputs": [],
   "source": []
  },
  {
   "cell_type": "markdown",
   "metadata": {},
   "source": [
    "### Problem 2: \n",
    "#### Problem Statement : Split array"
   ]
  },
  {
   "cell_type": "code",
   "execution_count": 44,
   "metadata": {},
   "outputs": [
    {
     "data": {
      "text/plain": [
       "[1, 2, 3, 4, 5]"
      ]
     },
     "execution_count": 44,
     "metadata": {},
     "output_type": "execute_result"
    }
   ],
   "source": [
    "def rot(li,n):\n",
    "    temp=[]\n",
    "    for i  in range(n):\n",
    "        temp.append(a[i])\n",
    "    for i in range(n):\n",
    "        for j in range(len(a)-1):\n",
    "            a[j]=a[j+1]\n",
    "    for i in range(n):\n",
    "        li.pop()\n",
    "    for i in range(n):\n",
    "        li.append(temp[i])\n",
    "    return a   \n",
    "a=[4,5,1,2,3]\n",
    "rot(a,2)"
   ]
  },
  {
   "cell_type": "code",
   "execution_count": null,
   "metadata": {},
   "outputs": [],
   "source": []
  },
  {
   "cell_type": "markdown",
   "metadata": {},
   "source": [
    "### Problem 3: \n",
    "#### Problem Statement : Find reminder of array multiplication divided by n"
   ]
  },
  {
   "cell_type": "code",
   "execution_count": 45,
   "metadata": {},
   "outputs": [
    {
     "data": {
      "text/plain": [
       "24.0"
      ]
     },
     "execution_count": 45,
     "metadata": {},
     "output_type": "execute_result"
    }
   ],
   "source": [
    "def pro(a,n):\n",
    "    prod=1\n",
    "    for i in range(len(a)):\n",
    "        prod=prod*a[i]\n",
    "    result=prod/n\n",
    "    return result\n",
    "a=[1,2,3,4,5]\n",
    "pro(a,5)"
   ]
  },
  {
   "cell_type": "code",
   "execution_count": null,
   "metadata": {},
   "outputs": [],
   "source": []
  },
  {
   "cell_type": "markdown",
   "metadata": {},
   "source": [
    "### Problem 4: \n",
    "#### Problem Statement :Reconstruct the array by replacing arr[i] with (arr[i-1]+1) % M"
   ]
  },
  {
   "cell_type": "code",
   "execution_count": 46,
   "metadata": {},
   "outputs": [
    {
     "data": {
      "text/plain": [
       "[5, 6, 0, 1, 2, 3]"
      ]
     },
     "execution_count": 46,
     "metadata": {},
     "output_type": "execute_result"
    }
   ],
   "source": [
    "def por(a,m):\n",
    "    for i in range(1,len(a)):\n",
    "        a[i]=(a[i-1]+1)%m\n",
    "    return a\n",
    "a=[5, -1, -1, 1, 2, 3]\n",
    "por(a,7)"
   ]
  },
  {
   "cell_type": "code",
   "execution_count": null,
   "metadata": {},
   "outputs": [],
   "source": []
  },
  {
   "cell_type": "markdown",
   "metadata": {},
   "source": [
    "### Problem 5: \n",
    "#### Problem Statement :Check if given array is Monotonic"
   ]
  },
  {
   "cell_type": "code",
   "execution_count": 56,
   "metadata": {},
   "outputs": [
    {
     "data": {
      "text/plain": [
       "True"
      ]
     },
     "execution_count": 56,
     "metadata": {},
     "output_type": "execute_result"
    }
   ],
   "source": [
    "def mono(a):\n",
    "        for i in range(len(a)-1):\n",
    "            if(a[i]<=a[i+1]):\n",
    "                return False\n",
    "        return True\n",
    "    \n",
    "a=[6,5,4,3]\n",
    "mono(a)"
   ]
  },
  {
   "cell_type": "code",
   "execution_count": null,
   "metadata": {},
   "outputs": [],
   "source": []
  },
  {
   "cell_type": "markdown",
   "metadata": {},
   "source": [
    "### Problem 6: \n",
    "#### Problem Statement :To interchange first and last elements in a list"
   ]
  },
  {
   "cell_type": "code",
   "execution_count": 59,
   "metadata": {},
   "outputs": [
    {
     "data": {
      "text/plain": [
       "[1, 2, 3, 4, 5]"
      ]
     },
     "execution_count": 59,
     "metadata": {},
     "output_type": "execute_result"
    }
   ],
   "source": [
    "def inter(a):\n",
    "    temp=a[0]\n",
    "    a[0]=a[len(a)-1]\n",
    "    a[len(a)-1]=temp\n",
    "    return a\n",
    "a=[5,2,3,4,1]\n",
    "inter(a)"
   ]
  },
  {
   "cell_type": "code",
   "execution_count": null,
   "metadata": {},
   "outputs": [],
   "source": []
  },
  {
   "cell_type": "markdown",
   "metadata": {},
   "source": [
    "### Problem 7: \n",
    "#### Problem Statement :To swap two elements in a list"
   ]
  },
  {
   "cell_type": "code",
   "execution_count": 60,
   "metadata": {},
   "outputs": [
    {
     "data": {
      "text/plain": [
       "[1, 2, 3, 4, 5]"
      ]
     },
     "execution_count": 60,
     "metadata": {},
     "output_type": "execute_result"
    }
   ],
   "source": [
    "def change(a,x,y):\n",
    "    temp=a[x-1]\n",
    "    a[x-1]=a[y-1]\n",
    "    a[y-1]=temp\n",
    "    return a\n",
    "a=[1,4,3,2,5]\n",
    "change(a,2,4)"
   ]
  },
  {
   "cell_type": "code",
   "execution_count": null,
   "metadata": {},
   "outputs": [],
   "source": []
  },
  {
   "cell_type": "code",
   "execution_count": null,
   "metadata": {},
   "outputs": [],
   "source": []
  },
  {
   "cell_type": "markdown",
   "metadata": {},
   "source": [
    "### Problem 8:\n",
    "#### Problem Statement :You are given n words. Some words may repeat. For each word, output its number of occurrences. The output order should correspond with the input order of appearance of the word. First line of input contains the total number of words n. Next n lines contain words that need to processed.   First line of the output should contain the total number distinct words. Second line of output must contain the frequency of words the same order of their appearance as in the input\n",
    "#### Test Cases:\n",
    "* Test Case 1:Sample Input :  6\n",
    "\n",
    "                            * abcd\n",
    "\n",
    "                            * ijkl\n",
    "\n",
    "                            * abcd\n",
    "\n",
    "                            * pqrs\n",
    "\n",
    "                            * abcd\n",
    "\n",
    "                            * ijkl\n",
    "\n",
    "Sample Output :   3\n",
    "\n",
    "3  2   1"
   ]
  },
  {
   "cell_type": "code",
   "execution_count": 77,
   "metadata": {},
   "outputs": [
    {
     "name": "stdout",
     "output_type": "stream",
     "text": [
      "3\n",
      "3 2 1 "
     ]
    }
   ],
   "source": [
    "def unique(le,n):\n",
    "    uni=[ ]\n",
    "    uni.append(n[0])\n",
    "    index=0\n",
    "    for i in range(len(n)):\n",
    "        if(checkuni(n[i],uni)==True):\n",
    "            uni.append(n[i])\n",
    "    print(len(uni))\n",
    "    for i in range(len(uni)):\n",
    "        unifre(uni[i],n)\n",
    "def checkuni(key,uni):\n",
    "    for j in range(len(uni)):\n",
    "        if(uni[j]==key):\n",
    "            return False\n",
    "    return True\n",
    "def unifre(key,n):\n",
    "    fre=0\n",
    "    for i in range(len(n)):\n",
    "        if(n[i]==key):\n",
    "            fre=fre+1\n",
    "    print(fre,end=\" \")\n",
    "n=['a','b','c','a','a','b']\n",
    "unique(len(n),n)"
   ]
  },
  {
   "cell_type": "code",
   "execution_count": null,
   "metadata": {},
   "outputs": [],
   "source": []
  }
 ],
 "metadata": {
  "kernelspec": {
   "display_name": "Python 3",
   "language": "python",
   "name": "python3"
  },
  "language_info": {
   "codemirror_mode": {
    "name": "ipython",
    "version": 3
   },
   "file_extension": ".py",
   "mimetype": "text/x-python",
   "name": "python",
   "nbconvert_exporter": "python",
   "pygments_lexer": "ipython3",
   "version": "3.7.3"
  }
 },
 "nbformat": 4,
 "nbformat_minor": 2
}
